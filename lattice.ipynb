{
 "cells": [
  {
   "cell_type": "code",
   "execution_count": 7,
   "id": "smart-blanket",
   "metadata": {},
   "outputs": [],
   "source": [
    "from pymatgen import MPRester\n",
    "from pymatgen.io.cif import CifWriter\n",
    "from pymatgen.symmetry.analyzer import SpacegroupAnalyzer"
   ]
  },
  {
   "cell_type": "code",
   "execution_count": 8,
   "id": "spare-unemployment",
   "metadata": {},
   "outputs": [],
   "source": [
    "with MPRester(\"XS47CSTtG0pOGgu7k5\") as m:\n",
    "    structure = m.get_structure_by_material_id(\"mp-984\")\n",
    "    dos = m.get_dos_by_material_id(\"mp-984\")\n",
    "    bandstructure = m.get_bandstructure_by_material_id(\"mp-984\")\n",
    "    w = CifWriter(structure)\n",
    "    w.write_file('BN_mp-984_symmetrized.cif')\n",
    "    print (structure.lattice)\n",
    "    print(struct.lattice.reciprocal_lattice)\n",
    "    print(SpacegroupAnalyzer(structure).get_lattice_type())\n",
    "    print(SpacegroupAnalyzer(structure).get_crystal_system())\n",
    "    print(SpacegroupAnalyzer(structure).get_point_group_symbol())"
   ]
  },
  {
   "cell_type": "code",
   "execution_count": null,
   "id": "outside-vulnerability",
   "metadata": {},
   "outputs": [],
   "source": []
  }
 ],
 "metadata": {
  "kernelspec": {
   "display_name": "Python 3",
   "language": "python",
   "name": "python3"
  },
  "language_info": {
   "codemirror_mode": {
    "name": "ipython",
    "version": 3
   },
   "file_extension": ".py",
   "mimetype": "text/x-python",
   "name": "python",
   "nbconvert_exporter": "python",
   "pygments_lexer": "ipython3",
   "version": "3.6.8"
  }
 },
 "nbformat": 4,
 "nbformat_minor": 5
}
