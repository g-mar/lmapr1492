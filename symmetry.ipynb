{
 "cells": [
  {
   "cell_type": "code",
   "execution_count": 21,
   "id": "advisory-japanese",
   "metadata": {},
   "outputs": [],
   "source": [
    "from pymatgen import MPRester\n",
    "from jupyter_jsmol import JsmolView\n",
    "from ipywidgets import Layout, widgets, interact\n",
    "from IPython.display import display\n",
    "from jupyter_jsmol.pymatgen import quick_view\n",
    "from pymatgen import Structure\n",
    "from pymatgen.symmetry.analyzer import SpacegroupAnalyzer"
   ]
  },
  {
   "cell_type": "code",
   "execution_count": 22,
   "id": "rural-escape",
   "metadata": {},
   "outputs": [],
   "source": [
    "with MPRester(\"XS47CSTtG0pOGgu7k5\") as m:\n",
    "    structure = m.get_structure_by_material_id(\"mp-984\")\n",
    "sym= SpacegroupAnalyzer(structure).get_symmetry_operations()"
   ]
  },
  {
   "cell_type": "code",
   "execution_count": 23,
   "id": "prime-auckland",
   "metadata": {},
   "outputs": [
    {
     "name": "stdout",
     "output_type": "stream",
     "text": [
      "vecteur:\n",
      "[-0.33333 -0.66667 -0.75   ]\n",
      "matrice:\n",
      "Rot:\n",
      "[[-1.  0.  0.]\n",
      " [ 0. -1.  0.]\n",
      " [ 0.  0. -1.]]\n",
      "tau\n",
      "[0. 0. 0.]\n"
     ]
    },
    {
     "data": {
      "application/vnd.jupyter.widget-view+json": {
       "model_id": "6119d5a3ed00489fba049a472d02fe1e",
       "version_major": 2,
       "version_minor": 0
      },
      "text/plain": [
       "JsmolView(layout=Layout(align_self='stretch', height='400px'))"
      ]
     },
     "metadata": {},
     "output_type": "display_data"
    }
   ],
   "source": [
    "#symétrie 1 de l'atome 2 (N)\n",
    "coord2=[0.33333,   0.66667,   0.75000]\n",
    "symétrie1= sym[1].operate(coord2)\n",
    "print (\"vecteur:\")\n",
    "print(symétrie1)\n",
    "print(\"matrice:\")\n",
    "print (sym[1])\n",
    "view = quick_view(structure, \"packed\")\n",
    "display(view)\n",
    "view.script('draw symop 1 {atomno=2}')"
   ]
  },
  {
   "cell_type": "code",
   "execution_count": 24,
   "id": "available-madness",
   "metadata": {},
   "outputs": [
    {
     "name": "stdout",
     "output_type": "stream",
     "text": [
      "vecteur:\n",
      "[-0.33334  0.33333  0.75   ]\n",
      "matrice:\n",
      "Rot:\n",
      "[[ 1. -1.  0.]\n",
      " [ 1.  0.  0.]\n",
      " [ 0.  0.  1.]]\n",
      "tau\n",
      "[0.  0.  0.5]\n"
     ]
    },
    {
     "data": {
      "application/vnd.jupyter.widget-view+json": {
       "model_id": "bd643d8c838b4e549cb28477b66e9b78",
       "version_major": 2,
       "version_minor": 0
      },
      "text/plain": [
       "JsmolView(layout=Layout(align_self='stretch', height='400px'))"
      ]
     },
     "metadata": {},
     "output_type": "display_data"
    }
   ],
   "source": [
    "#symétrie 2 de l'atome 1 (B)\n",
    "coord1=[0.33333,   0.66667,   0.25000]\n",
    "symétrie2= sym[2].operate(coord1)\n",
    "print (\"vecteur:\")\n",
    "print(symétrie2)\n",
    "print (\"matrice:\")\n",
    "print (sym[2])\n",
    "view = quick_view(structure, \"packed\")\n",
    "display(view)\n",
    "view.script('draw symop 2 {atomno=1}')"
   ]
  },
  {
   "cell_type": "code",
   "execution_count": 25,
   "id": "amino-ethnic",
   "metadata": {},
   "outputs": [
    {
     "name": "stdout",
     "output_type": "stream",
     "text": [
      "vecteur:\n",
      "[-0.33334 -0.66667 -0.25   ]\n",
      "matrice:\n",
      "Rot:\n",
      "[[-1.  1.  0.]\n",
      " [-1.  0.  0.]\n",
      " [ 0.  0. -1.]]\n",
      "tau\n",
      "[0.  0.  0.5]\n"
     ]
    },
    {
     "data": {
      "application/vnd.jupyter.widget-view+json": {
       "model_id": "377fbaf5c2fd40d88060d0bfeddf3e3b",
       "version_major": 2,
       "version_minor": 0
      },
      "text/plain": [
       "JsmolView(layout=Layout(align_self='stretch', height='400px'))"
      ]
     },
     "metadata": {},
     "output_type": "display_data"
    }
   ],
   "source": [
    "#symétrie 3 de l'atome 3 (B)\n",
    "coord3=[0.66667,   0.33333,   0.75000]\n",
    "symétrie3= sym[3].operate(coord3)\n",
    "print(\"vecteur:\")\n",
    "print(symétrie3)\n",
    "print(\"matrice:\")\n",
    "print (sym[3])\n",
    "view = quick_view(structure, \"packed\")\n",
    "display(view)\n",
    "view.script('draw symop 3 {atomno=3}')"
   ]
  },
  {
   "cell_type": "code",
   "execution_count": null,
   "id": "related-attachment",
   "metadata": {},
   "outputs": [],
   "source": []
  }
 ],
 "metadata": {
  "kernelspec": {
   "display_name": "Python 3",
   "language": "python",
   "name": "python3"
  },
  "language_info": {
   "codemirror_mode": {
    "name": "ipython",
    "version": 3
   },
   "file_extension": ".py",
   "mimetype": "text/x-python",
   "name": "python",
   "nbconvert_exporter": "python",
   "pygments_lexer": "ipython3",
   "version": "3.6.8"
  }
 },
 "nbformat": 4,
 "nbformat_minor": 5
}
